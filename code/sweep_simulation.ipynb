{
 "cells": [
  {
   "cell_type": "markdown",
   "metadata": {},
   "source": [
    "# Sweep simulation"
   ]
  },
  {
   "cell_type": "markdown",
   "metadata": {},
   "source": [
    "This notebook contains code to recreate Figure 2 in the paper. The tree sequence is also the ground truth dataset for certain supplementary figures."
   ]
  },
  {
   "cell_type": "code",
   "execution_count": 1,
   "metadata": {},
   "outputs": [],
   "source": [
    "import msprime"
   ]
  },
  {
   "cell_type": "markdown",
   "metadata": {},
   "source": [
    "Let's declare some variables to use in the simulation. We specify that we want to draw `num_samples` sample nodes from a population size of `Ne`. The sequence we want to simulate is `seq_length` bases long, and the rate of recombination is specified with `recomb_rate`."
   ]
  },
  {
   "cell_type": "code",
   "execution_count": 2,
   "metadata": {},
   "outputs": [],
   "source": [
    "pop_size = 10_000\n",
    "recomb_rate = 1e-8\n",
    "mut_rate = 1e-8\n",
    "num_samples = 300\n",
    "seq_length = 5_000_000"
   ]
  },
  {
   "cell_type": "markdown",
   "metadata": {},
   "source": [
    "We use `msprime` to simulate a tree sequence with the above parameters. We use the `SweepGenicSelection` function to specify the parameters of a selective sweep, with a beneficial allele situated in the middle of the sequence. The frequency of the allele when the sweep begins is indicated with `start_frequency` and the allele fixes in the population upon reaching a fequency `end_frequency`. `dt` is the small increment of time for stepping through the sweep phase of the model."
   ]
  },
  {
   "cell_type": "code",
   "execution_count": null,
   "metadata": {},
   "outputs": [],
   "source": [
    "sweep_model = msprime.SweepGenicSelection(\n",
    "    position = seq_length / 2, \n",
    "    start_frequency = 0.0001, \n",
    "    end_frequency = 0.9999, \n",
    "    s = 0.25, \n",
    "    dt = 1e-6)"
   ]
  },
  {
   "cell_type": "markdown",
   "metadata": {},
   "source": [
    "Next, we simulate the ancestry of the sampled genomes with `recomb_rate` to specify the recombination rate along the sequence. We use the selective sweep model defined above for the recent past, and the standard coalescent model for the deep past. We simulate mutations on the tree sequence at the rate of `mut_rate`, and write the tree sequence to file."
   ]
  },
  {
   "cell_type": "code",
   "execution_count": null,
   "metadata": {},
   "outputs": [],
   "source": [
    "models = [sweep_model, msprime.StandardCoalescent()]\n",
    "ts = msprime.sim_ancestry(\n",
    "    num_samples, \n",
    "    model = models, \n",
    "    population_size = pop_size, \n",
    "    sequence_length = seq_length, \n",
    "    recombination_rate = recomb_rate, random_seed=1234)\n",
    "sim_ts = msprime.sim_mutations(ts, rate=mut_rate, random_seed=4321)\n",
    "sim_ts.dump(\"true_topology.trees\")"
   ]
  },
  {
   "cell_type": "markdown",
   "metadata": {},
   "source": [
    "We can then run tsbrowse on these trees: <br>\n",
    "`python -m tsbrowse preprocess true_topology.trees` <br>\n",
    "`python -m tsbrowse serve --port 8090 true_topology.tsbrowse` <br>\n",
    "and open the app in a web browser by typing: <br>\n",
    "`localhost:8090` <br>\n"
   ]
  }
 ],
 "metadata": {
  "kernelspec": {
   "display_name": "tsbrowse_selective_sweep_env",
   "language": "python",
   "name": "python3"
  },
  "language_info": {
   "codemirror_mode": {
    "name": "ipython",
    "version": 3
   },
   "file_extension": ".py",
   "mimetype": "text/x-python",
   "name": "python",
   "nbconvert_exporter": "python",
   "pygments_lexer": "ipython3",
   "version": "3.10.9"
  }
 },
 "nbformat": 4,
 "nbformat_minor": 2
}
